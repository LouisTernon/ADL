{
 "cells": [
  {
   "cell_type": "markdown",
   "metadata": {},
   "source": [
    "## Multi-task problem: colored MNIST"
   ]
  },
  {
   "cell_type": "code",
   "execution_count": 1,
   "metadata": {},
   "outputs": [],
   "source": [
    "import torch\n",
    "import torch.nn as nn\n",
    "import torch.nn.functional as F\n",
    "import torchvision\n",
    "import torchvision.transforms as transforms\n",
    "from torch.utils.data import DataLoader, random_split, TensorDataset\n",
    "\n",
    "\n",
    "import matplotlib.pyplot as plt\n",
    "\n",
    "%matplotlib inline"
   ]
  },
  {
   "cell_type": "markdown",
   "metadata": {},
   "source": [
    "### Colored [MNIST Dataset](https://pytorch.org/docs/stable/torchvision/datasets.html#mnist)\n",
    "* Handwritten digits with 10 classes\n",
    "* Size of each image: 28x28 pixels \n",
    "* 50 000 data examples in training set, 10 000 examples in validation set, 10 000 in test set\n",
    "* We colorize each image with a random color within 7 (red, green, blue, magenta, yellow, cyan, white)\n",
    "* Each image has two labels: the number it represents (10 classes) and the color of the number (7 classes)"
   ]
  },
  {
   "cell_type": "code",
   "execution_count": 2,
   "metadata": {},
   "outputs": [],
   "source": [
    "# Given a loaded MNIST dataset, create a colozied version of it\n",
    "def colorize_dataset(dataset):\n",
    "    # array of colors\n",
    "    COLORS = torch.tensor([\n",
    "        [1.0, 0.0, 0.0], # 0 RED\n",
    "        [0.0, 1.0, 0.0], # 1 GREEN\n",
    "        [0.0, 0.0, 1.0], # 2 BLUE\n",
    "        [1.0, 1.0, 0.0], # 3 YELLOW\n",
    "        [1.0, 0.0, 1.0], # 4 MAGENTA\n",
    "        [0.0, 1.0, 1.0], # 5 CYAN\n",
    "        [1.0, 1.0, 1.0], # 6 WHITE\n",
    "    ])\n",
    "    N = len(dataset)\n",
    "    images = dataset.data.view(N, 1, 28, 28)\n",
    "    labels = dataset.targets.view(N, 1)\n",
    "    color_labels = torch.randint(0, 6, (N,))\n",
    "    colorized_images = images * COLORS[color_labels, :].view(N,3,1,1)\n",
    "    full_labels = torch.cat((labels, color_labels.view(N, 1)), dim=1)\n",
    "    return TensorDataset(colorized_images, full_labels)\n",
    "    "
   ]
  },
  {
   "cell_type": "code",
   "execution_count": 3,
   "metadata": {},
   "outputs": [],
   "source": [
    "# Loading MNIST dataset from torchvision.dataset\n",
    "dataset = torchvision.datasets.MNIST(root='data/',\n",
    "                                           train=True,\n",
    "                                           transform=transforms.ToTensor(),\n",
    "                                           download=True)\n",
    "\n",
    "dataset = colorize_dataset(dataset)"
   ]
  },
  {
   "cell_type": "code",
   "execution_count": 4,
   "metadata": {},
   "outputs": [
    {
     "name": "stdout",
     "output_type": "stream",
     "text": [
      "The shape of the dataset is : torch.Size([60000, 3, 28, 28])\n"
     ]
    }
   ],
   "source": [
    "print(\"The shape of the dataset is :\", dataset.tensors[0].size())"
   ]
  },
  {
   "cell_type": "code",
   "execution_count": 5,
   "metadata": {},
   "outputs": [],
   "source": [
    "# split the dataset into training and validation sets\n",
    "train_set, val_set = random_split(dataset, [50000, 10000])"
   ]
  },
  {
   "cell_type": "code",
   "execution_count": 6,
   "metadata": {},
   "outputs": [
    {
     "name": "stderr",
     "output_type": "stream",
     "text": [
      "Clipping input data to the valid range for imshow with RGB data ([0..1] for floats or [0..255] for integers).\n"
     ]
    },
    {
     "data": {
      "text/plain": [
       "Text(0.5, 1.0, 'image label: tensor([9, 5])')"
      ]
     },
     "execution_count": 6,
     "metadata": {},
     "output_type": "execute_result"
    },
    {
     "data": {
      "image/png": "[encoded data removed]",
      "text/plain": [
       "<Figure size 432x288 with 1 Axes>"
      ]
     },
     "metadata": {
      "needs_background": "light"
     },
     "output_type": "display_data"
    }
   ],
   "source": [
    "sample_index = 80\n",
    "\n",
    "plt.imshow(dataset[sample_index][0].permute(1, 2, 0), interpolation='nearest')\n",
    "plt.title(\"image label: {}\".format(dataset[sample_index][1]))"
   ]
  },
  {
   "cell_type": "markdown",
   "metadata": {},
   "source": [
    "### Training the neural network"
   ]
  },
  {
   "cell_type": "code",
   "execution_count": 7,
   "metadata": {},
   "outputs": [],
   "source": [
    "class Model(nn.Module):\n",
    "    \n",
    "    def __init__(self):\n",
    "        super(Model, self).__init__()\n",
    "        # The input size is 28*28. For a standard classification task, the output size should be the same as the number of classes\n",
    "        self.l_number = nn.Linear(28*28*3, 10)\n",
    "        # However here we deal with 2 tasks: the network outputs 2 labels, so there are two \"last\" layers in parallel\n",
    "        self.l_color = nn.Linear(28*28*3, 7)\n",
    "        \n",
    "    def forward(self, inputs):\n",
    "        h = inputs.view(-1, 28*28*3)\n",
    "        # Use softmax as the activation function for the last layer(s)\n",
    "        output_number = F.softmax(self.l_number(h), dim=1)\n",
    "        output_color = F.softmax(self.l_color(h), dim=1)\n",
    "        \n",
    "        return (output_number, output_color)"
   ]
  },
  {
   "cell_type": "code",
   "execution_count": 34,
   "metadata": {},
   "outputs": [],
   "source": [
    "# Create the model: \n",
    "model = Model()\n",
    "\n",
    "# Choose the hyperparameters for training: \n",
    "num_epochs = 10\n",
    "batch_size = 10\n",
    "\n",
    "# Use mean squared loss function \n",
    "criterion = nn.MSELoss()\n",
    "\n",
    "# Use SGD optimizer with a learning rate of 0.01\n",
    "# It is initialized on our model\n",
    "optimizer = torch.optim.SGD(model.parameters(), lr=0.01)"
   ]
  },
  {
   "cell_type": "code",
   "execution_count": 9,
   "metadata": {},
   "outputs": [],
   "source": [
    "# define a function for training\n",
    "def train(num_epochs, batch_size, criterion, optimizer, model, dataset):\n",
    "    train_error = []\n",
    "    train_loader = DataLoader(dataset, batch_size, shuffle=True)\n",
    "    model.train()\n",
    "    for epoch in range(num_epochs):\n",
    "        epoch_average_loss = 0.0\n",
    "        for (images, labels) in train_loader:\n",
    "            (y_number, y_color) = model(images)\n",
    "            \n",
    "            # One-hot encoding or labels so as to calculate MSE error:\n",
    "            number_onehot = F.one_hot(labels[:,0], 10).float()\n",
    "            color_onehot = F.one_hot(labels[:,1], 7).float()\n",
    "            \n",
    "            loss = criterion(y_number, number_onehot) + criterion(y_color, color_onehot)\n",
    "            optimizer.zero_grad()\n",
    "            loss.backward()\n",
    "            optimizer.step()\n",
    "            epoch_average_loss += loss.item() * batch_size / len(dataset)\n",
    "        train_error.append(epoch_average_loss)\n",
    "        print('Epoch [{}/{}], Loss: {:.4f}'\n",
    "                      .format(epoch+1, num_epochs, epoch_average_loss))\n",
    "    return train_error"
   ]
  },
  {
   "cell_type": "code",
   "execution_count": 10,
   "metadata": {},
   "outputs": [
    {
     "name": "stdout",
     "output_type": "stream",
     "text": [
      "Epoch [1/10], Loss: 0.3584\n",
      "Epoch [2/10], Loss: 0.2856\n",
      "Epoch [3/10], Loss: 0.2755\n",
      "Epoch [4/10], Loss: 0.2716\n",
      "Epoch [5/10], Loss: 0.2713\n",
      "Epoch [6/10], Loss: 0.2750\n",
      "Epoch [7/10], Loss: 0.2715\n",
      "Epoch [8/10], Loss: 0.2705\n",
      "Epoch [9/10], Loss: 0.2712\n",
      "Epoch [10/10], Loss: 0.2700\n"
     ]
    }
   ],
   "source": [
    "train_error = train(num_epochs, batch_size, criterion, optimizer, model, train_set)"
   ]
  },
  {
   "cell_type": "code",
   "execution_count": 11,
   "metadata": {},
   "outputs": [
    {
     "data": {
      "text/plain": [
       "Text(0.5, 1.0, 'Visualization of convergence')"
      ]
     },
     "execution_count": 11,
     "metadata": {},
     "output_type": "execute_result"
    },
    {
     "data": {
      "image/png": "[encoded data removed]",
      "text/plain": [
       "<Figure size 432x288 with 1 Axes>"
      ]
     },
     "metadata": {
      "needs_background": "light"
     },
     "output_type": "display_data"
    }
   ],
   "source": [
    "# plot the training error wrt. the number of epochs: \n",
    "plt.plot(range(1, num_epochs+1), train_error)\n",
    "plt.xlabel(\"num_epochs\")\n",
    "plt.ylabel(\"Train error\")\n",
    "plt.title(\"Visualization of convergence\")"
   ]
  },
  {
   "cell_type": "markdown",
   "metadata": {},
   "source": [
    "### Evaluate the model on the validation set"
   ]
  },
  {
   "cell_type": "code",
   "execution_count": 36,
   "metadata": {},
   "outputs": [],
   "source": [
    "# Calculate the accuracy to evaluate the model\n",
    "def accuracy(dataset, model, model_type='linear'):\n",
    "\n",
    "    with torch.no_grad():\n",
    "        number_correct = 0\n",
    "        color_correct = 0\n",
    "        both_correct = 0\n",
    "        dataloader = DataLoader(dataset)\n",
    "        for images, labels in dataloader:\n",
    "            images = images.view(-1, 28*28) if model_type == \"linear\" else images\n",
    "            (y_number, y_color) = model(images)\n",
    "            _, number_predicted = torch.max(y_number.data, 1) \n",
    "            number_correct += (number_predicted == labels[:, 0]).sum()\n",
    "            _, color_predicted = torch.max(y_color.data, 1) \n",
    "            color_correct += (color_predicted == labels[:, 1]).sum()\n",
    "            both_correct += ((color_predicted == labels[:, 1]) and (number_predicted == labels[:, 0])).sum()\n",
    "    acc_color = 100*color_correct.item()/ len(dataset)\n",
    "    acc_number = 100*number_correct.item()/ len(dataset)\n",
    "    acc_both = 100*both_correct.item()/ len(dataset)\n",
    "    print('Accuracy of the model for numbers : {:.2f} %'.format(acc_number))\n",
    "    print('Accuracy of the model for colors : {:.2f} %'.format(acc_color))\n",
    "    print('Accuracy of the model for both : {:.2f} %'.format(acc_both))\n",
    "    return acc_number, acc_color, acc_both"
   ]
  },
  {
   "cell_type": "code",
   "execution_count": 37,
   "metadata": {},
   "outputs": [
    {
     "name": "stdout",
     "output_type": "stream",
     "text": [
      "Accuracy of the model for numbers : 13.50 %\n",
      "Accuracy of the model for colors : 18.59 %\n",
      "Accuracy of the model for both : 2.27 %\n"
     ]
    },
    {
     "data": {
      "text/plain": [
       "(13.5, 18.59, 2.27)"
      ]
     },
     "execution_count": 37,
     "metadata": {},
     "output_type": "execute_result"
    }
   ],
   "source": [
    "accuracy(val_set, model)"
   ]
  },
  {
   "cell_type": "code",
   "execution_count": 14,
   "metadata": {},
   "outputs": [
    {
     "name": "stderr",
     "output_type": "stream",
     "text": [
      "Clipping input data to the valid range for imshow with RGB data ([0..1] for floats or [0..255] for integers).\n"
     ]
    },
    {
     "data": {
      "text/plain": [
       "Text(0.5, 1.0, 'Prediction: number=8, color=0')"
      ]
     },
     "execution_count": 14,
     "metadata": {},
     "output_type": "execute_result"
    },
    {
     "data": {
      "image/png": "[encoded data removed]",
      "text/plain": [
       "<Figure size 432x288 with 1 Axes>"
      ]
     },
     "metadata": {
      "needs_background": "light"
     },
     "output_type": "display_data"
    }
   ],
   "source": [
    "val_index = 66\n",
    "\n",
    "(image, label) = val_set[val_index]\n",
    "(y_number, y_color) = model(image)\n",
    "_, number_prediction = torch.max(y_number.data, 1)\n",
    "_, color_prediction = torch.max(y_color.data, 1)\n",
    "\n",
    "plt.imshow(image.permute(1, 2, 0), interpolation='nearest')\n",
    "plt.title(\"Prediction: number=%d, color=%d\" % (number_prediction, color_prediction))"
   ]
  },
  {
   "cell_type": "markdown",
   "metadata": {},
   "source": [
    "### Exercise 1: Impact of the architecture of the model\n",
    "Define your own class `Model` to improve the predictions:\n",
    "\n",
    "* The convolutional layer can be a good choice to deal with images. Replace nn.Linear with [nn.Conv2d](https://pytorch.org/docs/stable/nn.html#conv2d).\n",
    "* Try to add more layers (1, 2, 3, more ?)\n",
    "* Change the number of neurons in hidden layers (5, 10, 20, more ?)\n",
    "* Try different activation functions such as [sigmoid](https://pytorch.org/docs/stable/nn.functional.html#torch.nn.functional.sigmoid), [tanh](https://pytorch.org/docs/stable/nn.functional.html#torch.nn.functional.tanh), [relu](https://pytorch.org/docs/stable/nn.functional.html#torch.nn.functional.relu), etc.\n",
    "* __Your network generates two different outputs, how much weight-sharing (i.e. how many common layers) between these two paths is appropriate?__"
   ]
  },
  {
   "cell_type": "code",
   "execution_count": 28,
   "metadata": {},
   "outputs": [],
   "source": [
    "def conv_block(in_channels, out_channels, kernel_size, activation, *args, **kwargs):\n",
    "    block = nn.Sequential(nn.Conv2d(in_channels, out_channels, kernel_size, *args, **kwargs), activation)\n",
    "    return block\n",
    "\n",
    "def linear_block(in_features, out_features, activation, *args, **kwargs):\n",
    "    block = nn.Sequential(nn.Linear(in_features, out_features), activation)\n",
    "    return block\n",
    "\n",
    "class ConvModel(nn.Module):\n",
    "\n",
    "    def __init__(self, activation:str, n_common_filters:list, n_number_filters:list, n_color_filters:list, n_common_neurons:list, n_number_neurons:list, n_color_neurons:list, in_channels=3, in_dim=28*28, out_dim=(10, 7), logits=False):\n",
    "        super(ConvModel, self).__init__()\n",
    "\n",
    "        activations = nn.ModuleDict([[\"relu\", nn.ReLU()], [\"lrelu\", nn.LeakyReLU()], [\"sigmoid\", nn.Sigmoid()], [\"tanh\", nn.Tanh()]])\n",
    "        self.logits = logits\n",
    "\n",
    "        # Common encoder\n",
    "        self.conv_common_space_dim = [in_channels, *n_common_filters]\n",
    "        self.conv_common_blocks = [conv_block(in_channels, out_channels, kernel_size=3, activation=activations[activation], padding=1)\n",
    "        for in_channels, out_channels in zip(self.conv_common_space_dim, self.conv_common_space_dim[1:])]\n",
    "        self.common_encoder = nn.Sequential(*self.conv_common_blocks)\n",
    "\n",
    "        # Color conv branch\n",
    "        in_color_conv_channels = in_channels if not n_common_filters else n_common_filters[-1]\n",
    "        self.conv_color_space_dim = [in_color_conv_channels, *n_color_filters]\n",
    "        self.conv_color_blocks = [conv_block(in_channels, out_channels, kernel_size=3, activation=activations[activation], padding=1) for in_channels, out_channels in zip(self.conv_color_space_dim, self.conv_color_space_dim[1:])]\n",
    "        self.color_encoder = nn.Sequential(*self.conv_color_blocks)\n",
    "\n",
    "        # number conv branch\n",
    "        in_number_conv_channels = in_channels if not n_common_filters else n_common_filters[-1]\n",
    "        self.conv_number_space_dim = [in_number_conv_channels, *n_number_filters]\n",
    "        self.conv_number_blocks = [conv_block(in_channels, out_channels, kernel_size=3, activation=activations[activation], padding=1) for in_channels, out_channels in zip(self.conv_number_space_dim, self.conv_number_space_dim[1:])]\n",
    "        self.number_encoder = nn.Sequential(*self.conv_number_blocks)\n",
    "\n",
    "        # Common fc\n",
    "        in_fc_features = self.conv_common_space_dim[-1]*in_dim if not self.conv_color_space_dim else self.conv_color_space_dim[-1]*in_dim\n",
    "        self.linear_common_space_dim = [in_fc_features, *n_common_neurons]\n",
    "        self.linear_common_blocks = [linear_block(in_features, out_features, activations[activation]) for in_features, out_features in zip(self.linear_common_space_dim, self.linear_common_space_dim[1:])]\n",
    "        self.common_fully_connected = nn.Sequential(*self.linear_common_blocks)\n",
    "        self.final_color_layer = nn.Linear(self.linear_common_space_dim[-1], out_dim[0])\n",
    "        self.final_number_layer = nn.Linear(self.linear_common_space_dim[-1], out_dim[1])\n",
    "\n",
    "        # Color fc\n",
    "        in_fc_color_features = self.conv_common_space_dim[-1]*in_dim if not n_common_neurons else n_common_neurons[-1]\n",
    "        self.linear_color_space_dim = [in_fc_color_features, *n_color_neurons]\n",
    "        self.linear_color_blocks = [linear_block(in_features, out_features, activations[activation]) for in_features, out_features in zip(self.linear_color_space_dim, self.linear_color_space_dim[1:])]\n",
    "        self.color_fully_connected = nn.Sequential(*self.linear_color_blocks, nn.Linear(self.linear_color_space_dim[-1], out_dim[1]))\n",
    "\n",
    "        # Number fc\n",
    "        in_fc_number_features = self.conv_common_space_dim[-1]*in_dim if not n_common_neurons else n_common_neurons[-1]\n",
    "        self.linear_number_space_dim = [in_fc_number_features, *n_number_neurons] \n",
    "        self.linear_number_blocks = [linear_block(in_features, out_features, activations[activation]) for in_features, out_features in zip(self.linear_number_space_dim, self.linear_number_space_dim[1:])]\n",
    "        self.number_fully_connected = nn.Sequential(*self.linear_number_blocks, nn.Linear(self.linear_number_space_dim[-1], out_dim[0]))\n",
    "\n",
    "\n",
    "        \n",
    "    def forward(self, inputs):\n",
    "        #outputs = F.softmax(self.encoder(inputs), dim=1)# Use softmax as the activation function for the last layer\n",
    "        common_encoding = self.common_encoder(inputs)\n",
    "\n",
    "        color_encoding = self.color_encoder(common_encoding) if self.conv_common_blocks else common_encoding\n",
    "        number_encoding = self.number_encoder(common_encoding) if self.conv_common_blocks else common_encoding\n",
    "\n",
    "        color_encoding = color_encoding.view(color_encoding.size(0), -1) # Flatten\n",
    "        number_encoding = number_encoding.view(number_encoding.size(0), -1) # Flatten\n",
    "\n",
    "        color_encoding = self.common_fully_connected(color_encoding)\n",
    "        number_encoding = self.common_fully_connected(number_encoding)\n",
    "\n",
    "        color_encoding = self.color_fully_connected(color_encoding) if self.linear_color_blocks else self.final_color_layer(color_encoding)\n",
    "        number_encoding = self.number_fully_connected(number_encoding) if self.linear_number_blocks else self.final_number_layer(number_encoding)\n",
    "    \n",
    "        if not self.logits: output_numbers, output_colors = F.softmax(number_encoding, dim=1), F.softmax(color_encoding, dim=1)\n",
    "        else: output_numbers, output_colors = number_encoding, color_encoding\n",
    "\n",
    "        return output_numbers, output_colors"
   ]
  },
  {
   "cell_type": "code",
   "execution_count": 39,
   "metadata": {},
   "outputs": [
    {
     "name": "stdout",
     "output_type": "stream",
     "text": [
      "Epoch [1/3], Loss: 0.0551\n",
      "Epoch [2/3], Loss: 0.0738\n",
      "Epoch [3/3], Loss: 0.0652\n",
      "Accuracy of the model for numbers : 77.28 %\n",
      "Accuracy of the model for colors : 82.91 %\n",
      "Accuracy of the model for both : 64.02 %\n"
     ]
    }
   ],
   "source": [
    "num_epochs = 3\n",
    "batch_size = 10\n",
    "\n",
    "model = ConvModel(\"relu\", n_common_filters=[16, 16], n_color_filters=[], n_number_filters=[], n_common_neurons=[], n_color_neurons=[10], n_number_neurons=[10])\n",
    "criterion = nn.MSELoss()\n",
    "optimizer = torch.optim.Adam(model.parameters(), lr=0.001)\n",
    "train_error = train(num_epochs, batch_size, criterion, optimizer, model, train_set)\n",
    "\n",
    "acc_num, acc_col, acc = accuracy(val_set, model, model_type=\"conv\")"
   ]
  },
  {
   "cell_type": "markdown",
   "metadata": {},
   "source": [
    "### Exercise 2: Impact of the optimizer\n",
    "Retrain the model by using different parameters of the optimizer; you can change its parameters in the cell initializing it, after the definition of your model.\n",
    "\n",
    "* Use different batch sizes, from 10 to 1 000 for instance\n",
    "* Try different values of the learning rate (between 0.001 and 10), and see how these impact the training process. Do all network architectures react the same way to different learning rates?\n",
    "* Change the duration of the training by increasing the number of epochs\n",
    "* Try other optimizers, such as [Adam](https://pytorch.org/docs/stable/optim.html?highlight=adam#torch.optim.Adam) or [RMSprop](https://pytorch.org/docs/stable/optim.html?highlight=rmsprop#torch.optim.RMSprop)"
   ]
  },
  {
   "cell_type": "markdown",
   "metadata": {},
   "source": [
    "### Exercise 3: Impact of the loss function\n",
    "The MSE error is rarely used in this case. The cross entropy loss can be a better choice for multi-classification problems. In pytorch, the cross entropy loss is defined by [nn.CrossEntropyLoss](https://pytorch.org/docs/stable/nn.html#crossentropyloss). Replace the MSE loss by this one to observe its impact.\n",
    "\n",
    "**Note:** In order to use nn.CrossEntropyLoss correctly, don't add an activation function to the last layer of your network. And one-hot encoding is no longer needed to calculate the loss, delete the encoding procedures in function `train`.   "
   ]
  },
  {
   "cell_type": "markdown",
   "metadata": {},
   "source": [
    "### Exercise 4: Prediction on test set\n",
    "\n",
    "Once you have a model that seems satisfying on the validation dataset, you SHOULD evaluate it on a test dataset that has never been used before, to obtain a final accuracy value."
   ]
  },
  {
   "cell_type": "code",
   "execution_count": null,
   "metadata": {},
   "outputs": [],
   "source": [
    "# Loading MNIST test set from torchvision.dataset\n",
    "test_set = torchvision.datasets.MNIST(root='data/',\n",
    "                                         train=False,\n",
    "                                         transform=transforms.ToTensor(),\n",
    "                                         download=False)\n",
    "test_set = colorize_dataset(test_set)"
   ]
  },
  {
   "cell_type": "code",
   "execution_count": null,
   "metadata": {},
   "outputs": [],
   "source": [
    "accuracy(test_set, model)"
   ]
  },
  {
   "cell_type": "code",
   "execution_count": null,
   "metadata": {},
   "outputs": [],
   "source": []
  }
 ],
 "metadata": {
  "kernelspec": {
   "display_name": "Python 3",
   "language": "python",
   "name": "python3"
  },
  "language_info": {
   "codemirror_mode": {
    "name": "ipython",
    "version": 3
   },
   "file_extension": ".py",
   "mimetype": "text/x-python",
   "name": "python",
   "nbconvert_exporter": "python",
   "pygments_lexer": "ipython3",
   "version": "3.6.9"
  }
 },
 "nbformat": 4,
 "nbformat_minor": 2
}
